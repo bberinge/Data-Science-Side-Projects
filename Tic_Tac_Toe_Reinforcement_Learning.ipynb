{
 "cells": [
  {
   "cell_type": "code",
   "execution_count": 1,
   "metadata": {},
   "outputs": [],
   "source": [
    "import numpy as np\n",
    "from random import randint\n",
    "import time"
   ]
  },
  {
   "cell_type": "code",
   "execution_count": 33,
   "metadata": {},
   "outputs": [],
   "source": [
    "### This function is used for printing out the current state of a board\n",
    "def print_state(state):\n",
    "    print(\"    1   2   3  \")\n",
    "    for i in range(3):\n",
    "        print(\"  -------------\")\n",
    "        print(str(i+1) + \" | \" + state[i][0] + \" | \"+ state[i][1] + \" | \"+ state[i][2]+ \" |\")\n",
    "    print(\"  -------------\")"
   ]
  },
  {
   "cell_type": "code",
   "execution_count": 229,
   "metadata": {},
   "outputs": [
    {
     "name": "stdout",
     "output_type": "stream",
     "text": [
      "    1   2   3  \n",
      "  -------------\n",
      "1 | X | O | X |\n",
      "  -------------\n",
      "2 | O | X | O |\n",
      "  -------------\n",
      "3 |   |   |   |\n",
      "  -------------\n"
     ]
    }
   ],
   "source": [
    "#example of printing a state\n",
    "current_state = [[\"X\", \"O\", \"X\"], [\"O\", \"X\", \"O\"], [\" \", \" \", \" \"]]\n",
    "print_state(current_state)"
   ]
  },
  {
   "cell_type": "code",
   "execution_count": 54,
   "metadata": {},
   "outputs": [],
   "source": [
    "# This function takes a board state as an input, then returns True if the state represents a Win/Loss, False otherwise\n",
    "# It checks horizontal, vertical, and diagonal rows\n",
    "def check_game_over(state):\n",
    "    game_over = False\n",
    "    #check horizontals and verticals\n",
    "    for i in range(3):\n",
    "        vertical = [state[0][i], state[1][i], state[2][i]]\n",
    "        horizontal = state[i]\n",
    "        if horizontal == [\"X\", \"X\", \"X\"] or horizontal == [\"O\", \"O\", \"O\"] or vertical == [\"X\", \"X\", \"X\"] or vertical == [\"O\", \"O\", \"O\"]:\n",
    "            game_over = True\n",
    "    #check diagonals\n",
    "    diag1 = [state[0][0], state[1][1], state[2][2]]\n",
    "    diag2 = [state[2][0], state[1][1], state[0][2]]\n",
    "    if diag1 == [\"X\", \"X\", \"X\"] or diag1 == [\"O\", \"O\", \"O\"] or diag2 == [\"X\", \"X\", \"X\"] or diag2 == [\"O\", \"O\", \"O\"]:\n",
    "        game_over = True\n",
    "    return game_over"
   ]
  },
  {
   "cell_type": "code",
   "execution_count": 120,
   "metadata": {},
   "outputs": [],
   "source": [
    "# This function takes a board state as an input.  It returns True if the board is full and no more moves can be played.\n",
    "# Otherwise it returns False.\n",
    "def check_tie(state):\n",
    "    game_over = True\n",
    "    for i in state:\n",
    "        if \" \" in i:\n",
    "            game_over = False\n",
    "    return game_over"
   ]
  },
  {
   "cell_type": "code",
   "execution_count": 209,
   "metadata": {},
   "outputs": [],
   "source": [
    "# This function takes a policy, the current board state, and whether it is player 1 (X's) or player 2 (O's) turn to move\n",
    "# It also takes \"exp_rate\" which is an exploration rate between 0 and 100.  For example, if the exp_rate is 30, then the\n",
    "# function will return a random move (i.e. exploring) 30% of the time.  The other 70% of the time it will return the optimal\n",
    "# move based on the policy input.  It returns the new state resulting from the chosen move.\n",
    "\n",
    "def choose_move(policy, current_state, player, exp_rate):\n",
    "    if player == 1:\n",
    "        player_icon = \"X\"\n",
    "    else:\n",
    "        player_icon = \"O\"\n",
    "    # evaluate all possible next states\n",
    "    possible_next_states = []\n",
    "    #\n",
    "    for i in range(3):\n",
    "        for j in range(3):\n",
    "            if current_state[i][j] == \" \":\n",
    "                possible_state = [x[:] for x in current_state] #makes copy of current state\n",
    "                possible_state[i][j] = player_icon \n",
    "                possible_next_states.append(possible_state)  # makes list of all possible states for the next move\n",
    "    explore_variable = randint(1, 100)\n",
    "    if explore_variable < (100-exp_rate): #choose random move exp_rate% of the time.  Otherwise, choose the optimal move\n",
    "        best_value = -99999\n",
    "        for i in possible_next_states:      #search all possible next states for best available value\n",
    "            if check_game_over(i): #if it ends the game, always choose it\n",
    "                new_state = i\n",
    "                value = 100000\n",
    "            elif str(i) in policy: #check if value has been assigned to board state\n",
    "                value = policy[str(i)]\n",
    "            else:\n",
    "                value = 0\n",
    "            if value > best_value:\n",
    "                new_state = i \n",
    "                best_value = value\n",
    "    else: #30% of the time choose a random move\n",
    "        random_state = randint(0, len(possible_next_states)-1)\n",
    "        new_state = possible_next_states[random_state]\n",
    "    return new_state"
   ]
  },
  {
   "cell_type": "code",
   "execution_count": 242,
   "metadata": {},
   "outputs": [],
   "source": [
    "# This is the most important function. This is where \"learning\" actually takes place.  \n",
    "#The inputs are the two current policies used by the opposing players, and the three states that made up the last turn cycle (i.e. the last move made by each player)\n",
    "# Based on the results of the last move by each player, the policies for each player are updated.\n",
    "\n",
    "def update_policy(policy1, policy2, last_state, middle_state, new_state): #updates policies assuming policy1 made the most recent move\n",
    "    game_over = check_game_over(new_state)\n",
    "    board_full = check_tie(new_state)\n",
    "    if game_over:\n",
    "        #update policy1 for last_state\n",
    "        if str(last_state) in policy1:\n",
    "            policy1[str(last_state)] = policy1[str(last_state)] +.1*(10 - policy1[str(last_state)])\n",
    "        else:\n",
    "            policy1[str(last_state)] = 1\n",
    "        \n",
    "        #update policy2 for middle_state\n",
    "        if str(middle_state) in policy2:\n",
    "            policy2[str(middle_state)] = policy2[str(middle_state)] +.1*(-10 - policy2[str(middle_state)])\n",
    "        else:\n",
    "            policy2[str(middle_state)] = -1\n",
    "    else:\n",
    "        if board_full:\n",
    "            policy1[str(new_state)] = -5 #penalize ties half as much as losses\n",
    "        else:\n",
    "            if str(new_state) not in policy1:\n",
    "                policy1[str(new_state)] = 0\n",
    "            \n",
    "        #update policy1 for last_state\n",
    "        if str(last_state) in policy1:\n",
    "            policy1[str(last_state)] = policy1[str(last_state)] +.1*(policy1[str(new_state)] - policy1[str(last_state)])\n",
    "        else:\n",
    "            policy1[str(last_state)] = .1*policy1[str(new_state)]\n",
    "        \n",
    "    \n",
    "    return policy1, policy2, game_over, board_full"
   ]
  },
  {
   "cell_type": "code",
   "execution_count": 211,
   "metadata": {},
   "outputs": [],
   "source": [
    "# This functions simulates a single turn (i.e. both players move once if possible)\n",
    "def train_turn(policy1, policy2, current_state, middle_state): #simulates one turn of tic-tac toe, assumes policy1 will go first\n",
    "    new_middle_state = choose_move(policy1, current_state, 1, 30) #returns state of board after player goes\n",
    "    policy1, policy2, game_over, board_full = update_policy(policy1, policy2, middle_state, current_state, new_middle_state)\n",
    "    if game_over or board_full:\n",
    "        end_state = new_middle_state\n",
    "    else:\n",
    "        end_state = choose_move(policy2, new_middle_state, 2, 30)\n",
    "        policy2, policy1, game_over, board_full = update_policy(policy2, policy1, current_state, new_middle_state, end_state)\n",
    "    \n",
    "    return policy1, policy2, end_state, new_middle_state, game_over, board_full"
   ]
  },
  {
   "cell_type": "code",
   "execution_count": 233,
   "metadata": {},
   "outputs": [],
   "source": [
    "# This function trains two agents to play against each other \n",
    "# Policy 1 will be the policy for an agent who picks first, Policy 2 will be policy for agent who picks second\n",
    "# By default it uses an exploration rate of 30.  Number of iterations is the only input.\n",
    "\n",
    "def train_tic_tac_toe(iterations):\n",
    "    policy1 = {}\n",
    "    policy2 = {}\n",
    "    for i in range(iterations):\n",
    "        player_turn = 1 # randomly choose who goes first\n",
    "        current_state = [[\" \", \" \", \" \"], [\" \", \" \", \" \"], [\" \", \" \", \" \"]] #initialize empty board\n",
    "        middle_state = [[\" \", \" \", \" \"], [\" \", \" \", \" \"], [\" \", \" \", \" \"]] #initialize empty middle state\n",
    "        game_over = False\n",
    "        board_full = False\n",
    "        counter = 0\n",
    "        while game_over == False and board_full == False and counter <6: #play until someone wins or board is full\n",
    "                policy1, policy2, current_state, middle_state, game_over, board_full = train_turn(policy1, policy2, current_state, middle_state)\n",
    "                \n",
    "    return policy1, policy2\n",
    "            \n",
    "            \n",
    "            "
   ]
  },
  {
   "cell_type": "code",
   "execution_count": 230,
   "metadata": {},
   "outputs": [],
   "source": [
    "# This function allows a human to play against a trained computer.  Two policies are input because we have separate policies\n",
    "# depending on whether the computer goes first or second.\n",
    "\n",
    "def play_tic_tac_toe(policy1, policy2):\n",
    "    #--------------Initialize Game--------------------#\n",
    "    first_turn = randint(1, 2) # randomly choose who goes first\n",
    "    print(\"Starting new game of tic tac toe...\")\n",
    "    if first_turn == 1:\n",
    "        print(\"Player 1: Human (X's)\")\n",
    "        print(\"Player 2: Computer (O's)\")\n",
    "        print(\"Player 1 Goes First!\")\n",
    "        policy = policy2\n",
    "        whose_turn = \"Human\"\n",
    "        human_marker = \"X\"\n",
    "        computer_player = 2\n",
    "    else:\n",
    "        print(\"Player 1: Computer (X's)\")\n",
    "        print(\"Player 2: Human (O's)\")\n",
    "        print(\"Player 1 Goes First!\")\n",
    "        policy = policy1\n",
    "        computer_player = 1\n",
    "        whose_turn = \"Computer\"\n",
    "        human_marker = \"O\"\n",
    "    current_state = [[\" \", \" \", \" \"], [\" \", \" \", \" \"], [\" \", \" \", \" \"]] #initialize empty board\n",
    "    print_state(current_state)\n",
    "    \n",
    "    #- ---------------Play Game-------------------------#\n",
    "    game_over = False    \n",
    "    board_full = False\n",
    "    counter = 0\n",
    "    while game_over == False and board_full == False:\n",
    "        if whose_turn == \"Human\": #human turn\n",
    "            new_row = int(input(\"Enter Row Number of next move: \"))\n",
    "            new_col = int(input(\"Enter Col Number of next move: \"))\n",
    "            current_state[new_row-1][new_col-1] = human_marker\n",
    "            print_state(current_state)\n",
    "            whose_turn = \"Computer\" #toggle whose turn it is at end of turn\n",
    "            game_over = check_game_over(current_state)\n",
    "            if game_over:\n",
    "                print(\"Human wins!\")\n",
    "        else: #computer turn\n",
    "            for x in range (0,3):  \n",
    "                b = \"Computer is thinking\" + \".\" * x\n",
    "                print (b, end=\"\\r\")\n",
    "                time.sleep(1)\n",
    "            print(\"                            \")\n",
    "            current_state = choose_move(policy, current_state, computer_player, 0)\n",
    "            print_state(current_state)\n",
    "                \n",
    "            whose_turn = \"Human\" #toggle whose turn it is at end of turn\n",
    "            game_over = check_game_over(current_state)\n",
    "            if game_over:\n",
    "                print(\"Computer Wins!\")\n",
    "        if not game_over:    \n",
    "            board_full = check_tie(current_state)\n",
    "            if board_full:\n",
    "                print(\"Game ends in a tie.\")\n",
    "        \n",
    "        counter += 1\n",
    "        "
   ]
  },
  {
   "cell_type": "code",
   "execution_count": 243,
   "metadata": {},
   "outputs": [],
   "source": [
    "policy1, policy2 = train_tic_tac_toe(30000)"
   ]
  },
  {
   "cell_type": "code",
   "execution_count": 246,
   "metadata": {
    "scrolled": false
   },
   "outputs": [],
   "source": [
    "play_tic_tac_toe(policy1, policy2)"
   ]
  }
 ],
 "metadata": {
  "kernelspec": {
   "display_name": "Python 3",
   "language": "python",
   "name": "python3"
  },
  "language_info": {
   "codemirror_mode": {
    "name": "ipython",
    "version": 3
   },
   "file_extension": ".py",
   "mimetype": "text/x-python",
   "name": "python",
   "nbconvert_exporter": "python",
   "pygments_lexer": "ipython3",
   "version": "3.5.4"
  }
 },
 "nbformat": 4,
 "nbformat_minor": 2
}

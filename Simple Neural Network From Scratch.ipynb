{
 "cells": [
  {
   "cell_type": "markdown",
   "metadata": {},
   "source": [
    "# Coding a Two-Layer, Feed-forward Neural Network\n",
    "This file illustrates the training of a two-layer neural network, using sigmoid activation functions.\n",
    "\n",
    "This is meant to be a simpele implementation of how gradient descent and back-propagation work, and this code has not been built to be particularly flexible or efficient.  Additionally, the output units use a sigmoid activation function, which can have difficulty converging for values to the extremes of the [0, 1] range.  \n",
    "\n",
    "At the end of this code, it is demonstrated that this network architecture can be used to reliably learn any boolean function (the sigmoid output layers are simply rounded to 0 or 1).  This represents an improvement on the single-layer perceptron (shown in a separate file in this repository), which is unable to learn the target functions of XOR (or its complement XNOR)."
   ]
  },
  {
   "cell_type": "code",
   "execution_count": 365,
   "metadata": {},
   "outputs": [],
   "source": [
    "import numpy as np\n",
    "import pandas as pd\n",
    "from math import exp\n",
    "import matplotlib.pyplot as plt\n",
    "import random"
   ]
  },
  {
   "cell_type": "code",
   "execution_count": 366,
   "metadata": {},
   "outputs": [],
   "source": [
    "def sigmoid_node(inputs, weights): #computes the output of a single node using the sigmoid activation function\n",
    "    linear_sum = 0\n",
    "    for i in range(0, len(inputs)):\n",
    "        linear_sum += inputs[i]*weights[i]\n",
    "    sigmoid = 1/(1+exp(-linear_sum))\n",
    "    return sigmoid"
   ]
  },
  {
   "cell_type": "code",
   "execution_count": 364,
   "metadata": {},
   "outputs": [
    {
     "data": {
      "image/png": "[encoded data removed]",
      "text/plain": [
       "<Figure size 432x288 with 1 Axes>"
      ]
     },
     "metadata": {
      "needs_background": "light"
     },
     "output_type": "display_data"
    }
   ],
   "source": [
    "#Demonstrate sigmoid activation function\n",
    "x = np.linspace(-10, 10, 101)\n",
    "y = [node_output([i], [1]) for i in x]\n",
    "plt.plot(x, y)\n",
    "plt.xlabel(\"Input\")\n",
    "plt.ylabel(\"Output\")\n",
    "plt.title(\"Visualize Sigmoid Activation Function\")\n",
    "plt.grid(True)\n",
    "plt.show()"
   ]
  },
  {
   "cell_type": "code",
   "execution_count": 57,
   "metadata": {},
   "outputs": [],
   "source": [
    "def linear_node(inputs, weights): #computes the output of a single node using the sigmoid activation function\n",
    "    linear_sum = 0\n",
    "    for i in range(0, len(inputs)):\n",
    "        linear_sum += inputs[i]*weights[i]\n",
    "    return linear_sum"
   ]
  },
  {
   "cell_type": "code",
   "execution_count": 203,
   "metadata": {},
   "outputs": [],
   "source": [
    "def network_output(inputs, weights, hidden, output): #computes output of entire network given number of hidden nodes, number of output nodes, and current weights\n",
    "        hidden_layer = [] #stores results from hidden nodes\n",
    "        output_layer = [] #stores results from output nodes\n",
    "        for i in range(0, hidden): # product outputs for all hidden nodes\n",
    "            hidden_layer.append(sigmoid_node(inputs, weights[i]))\n",
    "        for i in range(1, output+1): #produce outputs for all output nodes\n",
    "            output_layer.append(sigmoid_node(hidden_layer, weights[-i]))\n",
    "        return hidden_layer, output_layer\n",
    "            "
   ]
  },
  {
   "cell_type": "code",
   "execution_count": 221,
   "metadata": {},
   "outputs": [],
   "source": [
    "def update_weights(inputs, hidden_layer, output_layer, target, weights, learning_rate): # updates weights using back-propagation\n",
    "    output_deltas = []\n",
    "    hidden_deltas = []\n",
    "    new_weights = weights\n",
    "    for i in range(0, len(output_layer)):\n",
    "        output_deltas.append(output_layer[i]*(1-output_layer[i])*(target[i]- output_layer[i]))\n",
    "    for i in range(0, len(hidden_layer)):\n",
    "        #gather error terms from all output nodes:\n",
    "        error_sum = 0\n",
    "        for j in range(0, len(output_layer)):\n",
    "            error_sum += weights[-(j+1)][i]*output_deltas[j]\n",
    "        hidden_deltas.append(hidden_layer[i] * (1 - hidden_layer[i]) * error_sum)\n",
    "    #update output layer weights:\n",
    "    for i in range(1, len(output_layer)+1):\n",
    "        for j in range(0, len(weights[-i])):\n",
    "            weights[-i][j] = weights[-i][j] + learning_rate*output_deltas[i-1]* hidden_layer[j]\n",
    "    #update hidden layer weights:\n",
    "    for i in range(0, len(hidden_layer)):\n",
    "        for j in range(0, len(weights[i])):\n",
    "            weights[i][j] = weights[i][j] + learning_rate*hidden_deltas[i] * inputs[j]\n",
    "    return weights\n",
    "    ###FINISH BY ACTUALLY UPDATING WEIGHTS\n",
    "    "
   ]
  },
  {
   "cell_type": "code",
   "execution_count": 287,
   "metadata": {},
   "outputs": [],
   "source": [
    "def initialize_weights(inputs, hidden_units, outputs):\n",
    "    weights = [[]]*(hidden_units+ outputs)\n",
    "    for i in range(0, hidden_units):\n",
    "        new_weights = []\n",
    "        for j in range(0, inputs):\n",
    "            new_weights.append(round(random.uniform(-1, 1), 1)) #initialize all weights to random numbers between -.05 and .05\n",
    "        weights[i] = new_weights\n",
    "    for i in range(1, outputs+1):\n",
    "        new_weights = []\n",
    "        for j in range(0, hidden_units):\n",
    "            new_weights.append(round(random.uniform(-1, 1), 1))\n",
    "        weights[-i] = new_weights\n",
    "    return weights"
   ]
  },
  {
   "cell_type": "code",
   "execution_count": 307,
   "metadata": {},
   "outputs": [],
   "source": [
    "def train_neural_net(train_x, train_y, hidden_units, iterations, learning_rate): #trains neural network for number of iterations specified\n",
    "    weights = initialize_weights(len(train_x[0]), hidden_units, len(train_y[0])) #initialize weights array based on number of inputs, hidden units and number of outputs being predicted\n",
    "    for i in range(0, iterations): # iterate through all training examples n times\n",
    "        for j in range(0, len(train_x)):\n",
    "            hidden_layer, output_layer = network_output(train_x[j], weights, hidden_units, len(train_y[0]))\n",
    "    #        #if output != train_y[j]: #only update weights if example is misclassified\n",
    "            weights = update_weights(train_x[j], hidden_layer, output_layer, train_y[j], weights, learning_rate)\n",
    "            #print(weights)\n",
    "    training_results = []\n",
    "    for j in train_x:\n",
    "        hidden, output = network_output(j, weights, hidden_units, len(train_y[0]))\n",
    "        training_results.append([round(i) for i in output])\n",
    "    return training_results"
   ]
  },
  {
   "cell_type": "code",
   "execution_count": 308,
   "metadata": {},
   "outputs": [],
   "source": [
    "#weights = initialize_weights(len(train_x[0]), hidden_units, len(train_y[0]))\n",
    "train_x = [[1, 0, 0], [1, 1, 0], [1, 0, 1], [1, 1, 1]]\n",
    "train_y = [[0], [1], [1], [0]]\n",
    "hidden_units = 3\n",
    "iterations = 1000\n",
    "learning_rate = .4"
   ]
  },
  {
   "cell_type": "code",
   "execution_count": 309,
   "metadata": {},
   "outputs": [
    {
     "data": {
      "text/plain": [
       "[[0], [1], [1], [0]]"
      ]
     },
     "execution_count": 309,
     "metadata": {},
     "output_type": "execute_result"
    }
   ],
   "source": [
    "#trial:\n",
    "train_neural_net(train_x, train_y, hidden_units, iterations, learning_rate)"
   ]
  },
  {
   "cell_type": "code",
   "execution_count": 325,
   "metadata": {},
   "outputs": [],
   "source": [
    "boolean = {\"false_\" :      {\"target\": [[0], [0], [0], [0]]}, \n",
    "           \"and_\" :        {\"target\": [[0], [0], [0], [1]]}, \n",
    "           \"a_and_not_b\" : {\"target\": [[0], [1], [0], [0]]},\n",
    "            \"a_\":          {\"target\": [[0], [1], [0], [1]]},\n",
    "           \"not_a_and_b\" : {\"target\": [[0], [0], [1], [0]]},\n",
    "           \"b_\" :          {\"target\": [[0], [0], [1], [1]]},\n",
    "           \"x_or\" :        {\"target\": [[0], [1], [1], [0]]},\n",
    "           \"or_\" :         {\"target\": [[0], [1], [1], [1]]},\n",
    "           \"nor_\" :        {\"target\": [[1], [0], [0], [0]]},\n",
    "           \"x_nor\" :       {\"target\": [[1], [0], [0], [1]]},\n",
    "           \"not_b\" :       {\"target\": [[1], [1], [0], [0]]},\n",
    "           \"a_or_not_b\" :  {\"target\": [[1], [1], [0], [1]]},\n",
    "           \"not_a\" :       {\"target\": [[1], [0], [1], [0]]},\n",
    "           \"not_a_or_b\":   {\"target\": [[1], [0], [1], [1]]},\n",
    "           \"nand\" :        {\"target\": [[1], [1], [1], [0]]},\n",
    "           \"true_\" :       {\"target\": [[1], [1], [1], [1]]}}\n"
   ]
  },
  {
   "cell_type": "code",
   "execution_count": 362,
   "metadata": {},
   "outputs": [],
   "source": [
    "results = {}\n",
    "for i in boolean:\n",
    "        results[i] = train_neural_net(train_x, boolean[i][\"target\"], hidden_units = 4, iterations = 10000, learning_rate = .3)\n",
    "        if results[i] == boolean[i][\"target\"]:\n",
    "            boolean[i][\"Status\"] = \"Success\"\n",
    "        else:\n",
    "            boolean[i][\"Status\"] = \"Failure\"\n"
   ]
  },
  {
   "cell_type": "code",
   "execution_count": 363,
   "metadata": {},
   "outputs": [
    {
     "data": {
      "text/html": [
       "<div>\n",
       "<style scoped>\n",
       "    .dataframe tbody tr th:only-of-type {\n",
       "        vertical-align: middle;\n",
       "    }\n",
       "\n",
       "    .dataframe tbody tr th {\n",
       "        vertical-align: top;\n",
       "    }\n",
       "\n",
       "    .dataframe thead th {\n",
       "        text-align: right;\n",
       "    }\n",
       "</style>\n",
       "<table border=\"1\" class=\"dataframe\">\n",
       "  <thead>\n",
       "    <tr style=\"text-align: right;\">\n",
       "      <th></th>\n",
       "      <th>Status</th>\n",
       "      <th>target</th>\n",
       "    </tr>\n",
       "  </thead>\n",
       "  <tbody>\n",
       "    <tr>\n",
       "      <th>a_</th>\n",
       "      <td>Success</td>\n",
       "      <td>[[0], [1], [0], [1]]</td>\n",
       "    </tr>\n",
       "    <tr>\n",
       "      <th>a_and_not_b</th>\n",
       "      <td>Success</td>\n",
       "      <td>[[0], [1], [0], [0]]</td>\n",
       "    </tr>\n",
       "    <tr>\n",
       "      <th>a_or_not_b</th>\n",
       "      <td>Success</td>\n",
       "      <td>[[1], [1], [0], [1]]</td>\n",
       "    </tr>\n",
       "    <tr>\n",
       "      <th>and_</th>\n",
       "      <td>Success</td>\n",
       "      <td>[[0], [0], [0], [1]]</td>\n",
       "    </tr>\n",
       "    <tr>\n",
       "      <th>b_</th>\n",
       "      <td>Success</td>\n",
       "      <td>[[0], [0], [1], [1]]</td>\n",
       "    </tr>\n",
       "    <tr>\n",
       "      <th>false_</th>\n",
       "      <td>Success</td>\n",
       "      <td>[[0], [0], [0], [0]]</td>\n",
       "    </tr>\n",
       "    <tr>\n",
       "      <th>nand</th>\n",
       "      <td>Success</td>\n",
       "      <td>[[1], [1], [1], [0]]</td>\n",
       "    </tr>\n",
       "    <tr>\n",
       "      <th>nor_</th>\n",
       "      <td>Success</td>\n",
       "      <td>[[1], [0], [0], [0]]</td>\n",
       "    </tr>\n",
       "    <tr>\n",
       "      <th>not_a</th>\n",
       "      <td>Success</td>\n",
       "      <td>[[1], [0], [1], [0]]</td>\n",
       "    </tr>\n",
       "    <tr>\n",
       "      <th>not_a_and_b</th>\n",
       "      <td>Success</td>\n",
       "      <td>[[0], [0], [1], [0]]</td>\n",
       "    </tr>\n",
       "    <tr>\n",
       "      <th>not_a_or_b</th>\n",
       "      <td>Success</td>\n",
       "      <td>[[1], [0], [1], [1]]</td>\n",
       "    </tr>\n",
       "    <tr>\n",
       "      <th>not_b</th>\n",
       "      <td>Success</td>\n",
       "      <td>[[1], [1], [0], [0]]</td>\n",
       "    </tr>\n",
       "    <tr>\n",
       "      <th>or_</th>\n",
       "      <td>Success</td>\n",
       "      <td>[[0], [1], [1], [1]]</td>\n",
       "    </tr>\n",
       "    <tr>\n",
       "      <th>true_</th>\n",
       "      <td>Success</td>\n",
       "      <td>[[1], [1], [1], [1]]</td>\n",
       "    </tr>\n",
       "    <tr>\n",
       "      <th>x_nor</th>\n",
       "      <td>Success</td>\n",
       "      <td>[[1], [0], [0], [1]]</td>\n",
       "    </tr>\n",
       "    <tr>\n",
       "      <th>x_or</th>\n",
       "      <td>Success</td>\n",
       "      <td>[[0], [1], [1], [0]]</td>\n",
       "    </tr>\n",
       "  </tbody>\n",
       "</table>\n",
       "</div>"
      ],
      "text/plain": [
       "              Status                target\n",
       "a_           Success  [[0], [1], [0], [1]]\n",
       "a_and_not_b  Success  [[0], [1], [0], [0]]\n",
       "a_or_not_b   Success  [[1], [1], [0], [1]]\n",
       "and_         Success  [[0], [0], [0], [1]]\n",
       "b_           Success  [[0], [0], [1], [1]]\n",
       "false_       Success  [[0], [0], [0], [0]]\n",
       "nand         Success  [[1], [1], [1], [0]]\n",
       "nor_         Success  [[1], [0], [0], [0]]\n",
       "not_a        Success  [[1], [0], [1], [0]]\n",
       "not_a_and_b  Success  [[0], [0], [1], [0]]\n",
       "not_a_or_b   Success  [[1], [0], [1], [1]]\n",
       "not_b        Success  [[1], [1], [0], [0]]\n",
       "or_          Success  [[0], [1], [1], [1]]\n",
       "true_        Success  [[1], [1], [1], [1]]\n",
       "x_nor        Success  [[1], [0], [0], [1]]\n",
       "x_or         Success  [[0], [1], [1], [0]]"
      ]
     },
     "execution_count": 363,
     "metadata": {},
     "output_type": "execute_result"
    }
   ],
   "source": [
    "df = pd.DataFrame(boolean).transpose()\n",
    "df #shows that a single perceptron can represent any boolean valued function except for: \"XOR\" and \"XNOR\""
   ]
  },
  {
   "cell_type": "code",
   "execution_count": null,
   "metadata": {},
   "outputs": [],
   "source": []
  }
 ],
 "metadata": {
  "kernelspec": {
   "display_name": "Python 3",
   "language": "python",
   "name": "python3"
  },
  "language_info": {
   "codemirror_mode": {
    "name": "ipython",
    "version": 3
   },
   "file_extension": ".py",
   "mimetype": "text/x-python",
   "name": "python",
   "nbconvert_exporter": "python",
   "pygments_lexer": "ipython3",
   "version": "3.5.4"
  }
 },
 "nbformat": 4,
 "nbformat_minor": 2
}
